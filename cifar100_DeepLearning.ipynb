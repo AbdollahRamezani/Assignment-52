{
  "nbformat": 4,
  "nbformat_minor": 0,
  "metadata": {
    "colab": {
      "provenance": [],
      "gpuType": "T4"
    },
    "kernelspec": {
      "name": "python3",
      "display_name": "Python 3"
    },
    "language_info": {
      "name": "python"
    },
    "accelerator": "GPU"
  },
  "cells": [
    {
      "cell_type": "code",
      "execution_count": 1,
      "metadata": {
        "colab": {
          "base_uri": "https://localhost:8080/"
        },
        "id": "kSqRo0NQ9Xok",
        "outputId": "ea6b869b-553c-49db-b1ed-4ed4b96506f5"
      },
      "outputs": [
        {
          "output_type": "stream",
          "name": "stdout",
          "text": [
            "Downloading data from https://www.cs.toronto.edu/~kriz/cifar-100-python.tar.gz\n",
            "169001437/169001437 [==============================] - 2s 0us/step\n"
          ]
        }
      ],
      "source": [
        "import tensorflow as tf\n",
        "cifar100 = tf.keras.datasets.cifar100\n",
        "\n",
        "(x_train, y_train),(x_test, y_test) = cifar100.load_data()\n",
        "x_train, x_test = x_train / 255.0, x_test / 255.0"
      ]
    },
    {
      "cell_type": "code",
      "source": [
        "model = tf.keras.models.Sequential([\n",
        "    #deeplearning\n",
        "  tf.keras.layers.Conv2D(32, (3, 3), activation='relu', input_shape=(32, 32, 3)),\n",
        "  tf.keras.layers.Conv2D(40, (5, 5), activation='relu'),\n",
        "  tf.keras.layers.Conv2D(25, (3, 3), activation='relu'),\n",
        "  tf.keras.layers.Conv2D(10, (5, 5), activation='relu'),\n",
        "  tf.keras.layers.MaxPooling2D(),\n",
        "  tf.keras.layers.Conv2D(32, (3, 3), activation='relu'),\n",
        "  tf.keras.layers.Conv2D(32, (3, 3), activation='relu'),\n",
        "  tf.keras.layers.MaxPooling2D(),\n",
        "  tf.keras.layers.Flatten(),\n",
        "\n",
        "    #machinelearning\n",
        "  tf.keras.layers.Dense(128, activation='relu'),\n",
        "  tf.keras.layers.Dropout(0.2),\n",
        "  tf.keras.layers.Dense(100, activation='softmax')\n",
        "])\n"
      ],
      "metadata": {
        "id": "5bBVkLCU978p"
      },
      "execution_count": 2,
      "outputs": []
    },
    {
      "cell_type": "code",
      "source": [
        "model.compile(optimizer='adam',\n",
        "              loss='sparse_categorical_crossentropy',\n",
        "              metrics=['accuracy'])"
      ],
      "metadata": {
        "id": "4-D27ohU9_ti"
      },
      "execution_count": 3,
      "outputs": []
    },
    {
      "cell_type": "code",
      "source": [
        "model.fit(x_train, y_train, epochs=5)\n",
        "model.evaluate(x_test, y_test)"
      ],
      "metadata": {
        "id": "P4vfLGWI-AoA",
        "outputId": "6e1448f3-4248-449f-ef57-3dc24083eb7d",
        "colab": {
          "base_uri": "https://localhost:8080/"
        }
      },
      "execution_count": 4,
      "outputs": [
        {
          "output_type": "stream",
          "name": "stdout",
          "text": [
            "Epoch 1/5\n",
            "1563/1563 [==============================] - 23s 6ms/step - loss: 4.1385 - accuracy: 0.0624\n",
            "Epoch 2/5\n",
            "1563/1563 [==============================] - 10s 6ms/step - loss: 3.7508 - accuracy: 0.1212\n",
            "Epoch 3/5\n",
            "1563/1563 [==============================] - 9s 6ms/step - loss: 3.5544 - accuracy: 0.1550\n",
            "Epoch 4/5\n",
            "1563/1563 [==============================] - 10s 6ms/step - loss: 3.4209 - accuracy: 0.1817\n",
            "Epoch 5/5\n",
            "1563/1563 [==============================] - 9s 6ms/step - loss: 3.3316 - accuracy: 0.1959\n",
            "313/313 [==============================] - 2s 4ms/step - loss: 3.2697 - accuracy: 0.2152\n"
          ]
        },
        {
          "output_type": "execute_result",
          "data": {
            "text/plain": [
              "[3.269712448120117, 0.2152000069618225]"
            ]
          },
          "metadata": {},
          "execution_count": 4
        }
      ]
    }
  ]
}